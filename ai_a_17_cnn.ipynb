{
  "nbformat": 4,
  "nbformat_minor": 0,
  "metadata": {
    "colab": {
      "provenance": [],
      "authorship_tag": "ABX9TyOFBdGnjQK4DkdOd2pt78Dc",
      "include_colab_link": true
    },
    "kernelspec": {
      "name": "python3",
      "display_name": "Python 3"
    },
    "language_info": {
      "name": "python"
    }
  },
  "cells": [
    {
      "cell_type": "markdown",
      "metadata": {
        "id": "view-in-github",
        "colab_type": "text"
      },
      "source": [
        "<a href=\"https://colab.research.google.com/github/groundivy-dev1/Test01/blob/main/ai_a_17_cnn.ipynb\" target=\"_parent\"><img src=\"https://colab.research.google.com/assets/colab-badge.svg\" alt=\"Open In Colab\"/></a>"
      ]
    },
    {
      "cell_type": "code",
      "execution_count": 5,
      "metadata": {
        "colab": {
          "base_uri": "https://localhost:8080/"
        },
        "id": "1-C-ioPikaPI",
        "outputId": "8a6ab417-d596-417e-b7a7-7d524d2c49e1"
      },
      "outputs": [
        {
          "output_type": "stream",
          "name": "stdout",
          "text": [
            "8\n",
            "3\n",
            "4\n",
            "4\n",
            "torch.Size([8, 48])\n"
          ]
        }
      ],
      "source": [
        "import torch\n",
        "import torch.nn as nn\n",
        "\n",
        "# 예제 데이터: [batch_size, channels, height, width]\n",
        "data = torch.randn(8, 3, 4, 4)  # (batch_size=8, channels=3, height=4, width=4)\n",
        "\n",
        "print(data.size(0))\n",
        "print(data.size(1))\n",
        "print(data.size(2))\n",
        "print(data.size(3))\n",
        "\n",
        "# Flatten Layer 구현\n",
        "flattened = data.view(data.size(0), -1)  # 배치 차원 유지, 나머지 차원 flatten\n",
        "print(flattened.shape)  # [8, 48]\n"
      ]
    },
    {
      "cell_type": "code",
      "source": [
        "import torch\n",
        "import torch.nn as nn\n",
        "\n",
        "# Conv2d 정의\n",
        "conv = nn.Conv2d(in_channels=3, out_channels=16, kernel_size=3, stride=1, padding=1)\n",
        "\n",
        "# 임의 입력 데이터 (batch_size=8, channels=3, height=32, width=32)\n",
        "x = torch.randn(8, 3, 32, 32)\n",
        "\n",
        "# Conv2d 적용\n",
        "output = conv(x)\n",
        "print(output.shape)  # torch.Size([8, 16, 32, 32])\n"
      ],
      "metadata": {
        "colab": {
          "base_uri": "https://localhost:8080/"
        },
        "id": "ZXm8OrDK4Xkv",
        "outputId": "2092c934-0926-422e-868d-e268bd1fb79a"
      },
      "execution_count": 7,
      "outputs": [
        {
          "output_type": "stream",
          "name": "stdout",
          "text": [
            "torch.Size([8, 16, 32, 32])\n"
          ]
        }
      ]
    },
    {
      "cell_type": "code",
      "source": [
        "model = nn.Sequential(\n",
        "    nn.Conv2d(3, 16, kernel_size=3, stride=1, padding=1),  # Conv Layer\n",
        "    nn.ReLU(),  # Activation\n",
        "    nn.MaxPool2d(kernel_size=2, stride=2)  # Down-sampling\n",
        ")\n",
        "\n",
        "output = model(x)\n",
        "print(output.shape)  # torch.Size([8, 16, 16, 16])\n"
      ],
      "metadata": {
        "colab": {
          "base_uri": "https://localhost:8080/"
        },
        "id": "4s6oDfrs4kUu",
        "outputId": "2a66be83-9218-4287-fe4e-ea11875146b9"
      },
      "execution_count": 8,
      "outputs": [
        {
          "output_type": "stream",
          "name": "stdout",
          "text": [
            "torch.Size([8, 16, 16, 16])\n"
          ]
        }
      ]
    },
    {
      "cell_type": "code",
      "source": [],
      "metadata": {
        "id": "_vM_IkBt4mdY"
      },
      "execution_count": null,
      "outputs": []
    }
  ]
}